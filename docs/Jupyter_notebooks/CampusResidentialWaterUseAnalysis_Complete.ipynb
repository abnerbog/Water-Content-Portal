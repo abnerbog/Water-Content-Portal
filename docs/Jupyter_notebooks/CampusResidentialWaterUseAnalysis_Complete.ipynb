{
 "cells": [
  {
   "cell_type": "markdown",
   "metadata": {},
   "source": [
    "# Analysis of Weekday Versus Weekend Water use in a College Campus Residential Building"
   ]
  },
  {
   "cell_type": "markdown",
   "metadata": {},
   "source": [
    "Import the necessary Python libraries for the analysis"
   ]
  },
  {
   "cell_type": "code",
   "execution_count": null,
   "metadata": {},
   "outputs": [],
   "source": [
    "import pandas\n",
    "import matplotlib.pyplot as plt"
   ]
  },
  {
   "cell_type": "markdown",
   "metadata": {},
   "source": [
    "Read the CSV data file into a Pandas data frame object"
   ]
  },
  {
   "cell_type": "code",
   "execution_count": null,
   "metadata": {},
   "outputs": [],
   "source": [
    "df = pandas.read_csv('datalog_richards_hall.csv', header=1, sep=',',\n",
    "                     index_col=0, parse_dates=True,\n",
    "                     infer_datetime_format=True, low_memory=False)"
   ]
  },
  {
   "cell_type": "markdown",
   "metadata": {},
   "source": [
    "First aggregate the incremental flow volume to a total volume for each hourly time step for the whole period"
   ]
  },
  {
   "cell_type": "code",
   "execution_count": null,
   "metadata": {},
   "outputs": [],
   "source": [
    "hourlyTotVol = df['IncrementalVolume'].resample('1H', origin='start_day').sum()"
   ]
  },
  {
   "cell_type": "markdown",
   "metadata": {},
   "source": [
    "Now subset the hourly data by days of the week create a new DataFrame for weekdays and one for weekends"
   ]
  },
  {
   "cell_type": "code",
   "execution_count": null,
   "metadata": {},
   "outputs": [],
   "source": [
    "weekday_dat = hourlyTotVol[hourlyTotVol.index.weekday < 5].copy()\n",
    "weekend_dat = hourlyTotVol[hourlyTotVol.index.weekday >= 5].copy()"
   ]
  },
  {
   "cell_type": "markdown",
   "metadata": {},
   "source": [
    "Calculate an average volume and standard deviation for each hour of the day by aggregating across days using the groupby function - for both weekday and weekend"
   ]
  },
  {
   "cell_type": "code",
   "execution_count": null,
   "metadata": {},
   "outputs": [],
   "source": [
    "hourlyAvgWeekdayVol = weekday_dat.groupby(weekday_dat.index.hour).mean()\n",
    "hourlyAvgWeekendVol = weekend_dat.groupby(weekend_dat.index.hour).mean()\n",
    "hourlyWeekdayStDevVol = weekday_dat.groupby(weekday_dat.index.hour).std()\n",
    "hourlyWeekendStDevVol = weekend_dat.groupby(weekend_dat.index.hour).std()"
   ]
  },
  {
   "cell_type": "markdown",
   "metadata": {},
   "source": [
    "Create an errorbar plot to which I can add all of the data subsets"
   ]
  },
  {
   "cell_type": "code",
   "execution_count": null,
   "metadata": {},
   "outputs": [],
   "source": [
    "# Set the default font size for the plot\n",
    "font = {'size': 16}\n",
    "plt.rc('font', **font)\n",
    "\n",
    "# Generate a single plot to which I can add all of the data subsets\n",
    "fig = plt.figure(figsize=(10,5))\n",
    "ax = fig.add_subplot(1, 1, 1)\n",
    "\n",
    "# Create an errorbar plot (lines, point, and errorbars) of the hourly average volumes\n",
    "plt.errorbar(x=hourlyAvgWeekdayVol.index-0.05, y=hourlyAvgWeekdayVol, yerr=hourlyWeekdayStDevVol,\n",
    "             capsize=3, capthick=0.5, fmt='--', label='Average Hourly Weekday Volumes', marker='o')\n",
    "plt.errorbar(x=hourlyAvgWeekendVol.index+0.05, y=hourlyAvgWeekendVol, yerr=hourlyWeekendStDevVol,\n",
    "             capsize=3, capthick=0.5, fmt='--', label='Average Hourly Weekend Volumes', marker='s')\n",
    "\n",
    "# Set the x-axis tic mark locations\n",
    "ax.set_xlim(-0.5, 23.5)\n",
    "xmarks = range(0, 23 + 1, 1)\n",
    "plt.xticks(xmarks)\n",
    "\n",
    "# Set the x and y-axis labels\n",
    "ax.set_ylabel('Average Hourly Volume (gal)')\n",
    "ax.set_xlabel('Hour of the Day')\n",
    "ax.grid(False)\n",
    "\n",
    "# Add a legend with some customizations\n",
    "legend = ax.legend(loc='upper right', shadow=True)\n",
    "\n",
    "fig.tight_layout()\n",
    "\n",
    "# Make sure the plot displays\n",
    "plt.show()"
   ]
  }
 ],
 "metadata": {
  "kernelspec": {
   "display_name": "Python 3",
   "language": "python",
   "name": "python3"
  },
  "language_info": {
   "codemirror_mode": {
    "name": "ipython",
    "version": 3
   },
   "file_extension": ".py",
   "mimetype": "text/x-python",
   "name": "python",
   "nbconvert_exporter": "python",
   "pygments_lexer": "ipython3",
   "version": "3.7.8"
  }
 },
 "nbformat": 4,
 "nbformat_minor": 2
}
